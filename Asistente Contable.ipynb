{
 "cells": [
  {
   "cell_type": "code",
   "execution_count": 11,
   "id": "e41d0ac9-209c-487c-a5b2-01e2ec379005",
   "metadata": {},
   "outputs": [],
   "source": [
    "import openai\n",
    "openai.api_key = \"\""
   ]
  },
  {
   "cell_type": "code",
   "execution_count": 12,
   "id": "ef44c7ce-a29a-4b4b-90a9-f09da355e12f",
   "metadata": {},
   "outputs": [
    {
     "name": "stdin",
     "output_type": "stream",
     "text": [
      "Hola, ingresa tu consulta contable: como registro la compra de un vehiculo con un prestamo bancario\n"
     ]
    }
   ],
   "source": [
    "#zero shoot prompting\n",
    "consulta = input(\"Hola, ingresa tu consulta contable:\")\n",
    "\n",
    "\n",
    "prompt = f\"Eres un asistente contable, necesito que generes una respuesta a la siguiente consulta: {consulta} y que no sea muy extensa. Adicionalmente genera un link de un website con mas informacion util para el usuario.\"\n"
   ]
  },
  {
   "cell_type": "code",
   "execution_count": 13,
   "id": "97d9f424-0714-42ec-919b-546e993bbea1",
   "metadata": {},
   "outputs": [
    {
     "name": "stdout",
     "output_type": "stream",
     "text": [
      "assistant: Para registrar la compra de un vehículo con un préstamo bancario, debes seguir estos pasos:\n",
      "\n",
      "1. Registra el monto total del préstamo bancario como un pasivo en tu balance general.\n",
      "2. Registra el monto del vehículo como un activo en tu balance general.\n",
      "3. Crea un registro contable que refleje el préstamo bancario como un débito en tu cuenta de activos y un crédito en tu cuenta de pasivos.\n",
      "4. Posteriormente, registra la compra del vehículo como un débito en tu cuenta de activos y un crédito en tu cuenta de pasivos.\n",
      "\n",
      "Para más información detallada sobre cómo registrar la compra de un vehículo con un préstamo bancario, te recomiendo visitar el siguiente enlace: https://www.infocif.es/que-pasos-debo-seguir-al-financiar-la-compra-de-un-vehiculo-12748\n",
      "\n",
      "Espero que esta información te sea de ayuda. Si tienes alguna otra pregunta, no dudes en contactarme.\n"
     ]
    }
   ],
   "source": [
    "# Make the request\n",
    "conversation = [{\"role\": \"user\", \"content\": prompt}] # One request\n",
    "\n",
    "\n",
    "# Make the request\n",
    "response_real = openai.ChatCompletion.create(\n",
    "    model='gpt-3.5-turbo',\n",
    "    messages=conversation,\n",
    "    max_tokens=500\n",
    ")\n",
    "\n",
    "message = response_real.choices[0]['message']\n",
    "print(\"{}: {}\".format(message['role'], message['content']))"
   ]
  },
  {
   "cell_type": "code",
   "execution_count": 17,
   "id": "12dfc8bf-c112-4250-9d1b-7851827dcb13",
   "metadata": {},
   "outputs": [
    {
     "name": "stdin",
     "output_type": "stream",
     "text": [
      "En caso de ser un pregunta practica, deseas que genere un asiento contable? (si/no): si\n"
     ]
    },
    {
     "name": "stdout",
     "output_type": "stream",
     "text": [
      "assistant: Para el caso de la compra de un vehículo con un préstamo bancario, el asiento contable sería el siguiente:\n",
      "\n",
      "- En el Debe: Se registraría el monto total del préstamo bancario que se está utilizando para la compra del vehículo. Esta cantidad se registrará en la cuenta de \"Vehículos\" o \"Activo Fijo\" (dependiendo de cómo quieras categorizarlo).\n",
      "\n",
      "- En el Haber: Se registraría el monto total del préstamo bancario que se está utilizando para la compra del vehículo. Esta cantidad se registrará en la cuenta de \"Prestamos Bancarios\" o \"Pasivo a Largo Plazo\" (dependiendo de cómo quieras categorizarlo).\n",
      "\n",
      "Por ejemplo, si el préstamo bancario es de $10,000 y se está utilizando en su totalidad para la compra del vehículo, el asiento contable sería el siguiente:\n",
      "\n",
      "- En el Debe:\n",
      "  Vehículos (Activo Fijo) - $10,000\n",
      "\n",
      "- En el Haber:\n",
      "  Prestamos Bancarios (Pasivo a Largo Plazo) - $10,000\n",
      "\n",
      "Espero que esta explicación te ayude a registrar correctamente la compra de un vehículo con un préstamo bancario en tu contabilidad.\n"
     ]
    }
   ],
   "source": [
    "#one shoot prompting\n",
    "asiento = input(\"En caso de ser un pregunta practica, deseas que genere un asiento contable? (si/no):\").lower()\n",
    "\n",
    "prompt2 = f\"dada la siguiente consulta contable:{consulta}, genera un asiento contable describiendo los montos que deberian ir en el debitos y en creditos y tambien mencionando las cuentas contables. Si el usuario no provee de valores tu haz el ejemplo. Por ejemplo, la compra de un edificio por 1000 dolares en efectivo, se regitraria 1000 en debito en la cuenta de inmuebles y 1000 en la cuenta de caja chica en el credito\"\n",
    "\n",
    "if asiento == 'si':\n",
    "    # Make the request\n",
    "    conversation = [{\"role\": \"user\", \"content\": prompt2}] # One request\n",
    "    \n",
    "    \n",
    "    # Make the request\n",
    "    response_real = openai.ChatCompletion.create(\n",
    "        model='gpt-3.5-turbo',\n",
    "        messages=conversation,\n",
    "        max_tokens=500\n",
    "    )\n",
    "    \n",
    "    message = response_real.choices[0]['message']\n",
    "    print(\"{}: {}\".format(message['role'], message['content']))\n",
    "else:\n",
    "    print (\"Gracias\")"
   ]
  },
  {
   "cell_type": "code",
   "execution_count": null,
   "id": "8491cb1c-fd41-414d-8b61-bbf5a096c144",
   "metadata": {},
   "outputs": [],
   "source": []
  }
 ],
 "metadata": {
  "kernelspec": {
   "display_name": "Python 3 (ipykernel)",
   "language": "python",
   "name": "python3"
  },
  "language_info": {
   "codemirror_mode": {
    "name": "ipython",
    "version": 3
   },
   "file_extension": ".py",
   "mimetype": "text/x-python",
   "name": "python",
   "nbconvert_exporter": "python",
   "pygments_lexer": "ipython3",
   "version": "3.10.15"
  }
 },
 "nbformat": 4,
 "nbformat_minor": 5
}
